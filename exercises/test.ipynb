{
 "cells": [
  {
   "cell_type": "code",
   "execution_count": 2,
   "metadata": {},
   "outputs": [],
   "source": [
    "import polars as pl\n",
    "from datetime import timedelta, datetime, date"
   ]
  },
  {
   "cell_type": "code",
   "execution_count": 19,
   "metadata": {},
   "outputs": [],
   "source": [
    "test_df = pl.DataFrame(\n",
    "    {\n",
    "        \"date\": [\n",
    "            \"2020-08-01\",\n",
    "            \"2020-08-02\",\n",
    "            \"2020-08-03\",\n",
    "            \"2020-08-04\",\n",
    "            \"2020-08-05\",\n",
    "        ],\n",
    "        \"value\": [1, 2, 3, 4, 5],\n",
    "    }\n",
    ")\n"
   ]
  },
  {
   "cell_type": "code",
   "execution_count": 22,
   "metadata": {},
   "outputs": [],
   "source": [
    "test_df = test_df.with_columns(pl.col(\"date\").cast(pl.Date).cast(pl.Datetime(\"ms\")).alias(\"date\"), pl.int_range(1, pl.len() + 1).alias(\"count\"))\n"
   ]
  },
  {
   "cell_type": "code",
   "execution_count": 23,
   "metadata": {},
   "outputs": [
    {
     "data": {
      "text/html": [
       "<div><style>\n",
       ".dataframe > thead > tr,\n",
       ".dataframe > tbody > tr {\n",
       "  text-align: right;\n",
       "  white-space: pre-wrap;\n",
       "}\n",
       "</style>\n",
       "<small>shape: (5, 2)</small><table border=\"1\" class=\"dataframe\"><thead><tr><th>date</th><th>c</th></tr><tr><td>datetime[ms]</td><td>i64</td></tr></thead><tbody><tr><td>2020-08-02 00:01:00</td><td>1</td></tr><tr><td>2020-08-03 00:01:00</td><td>2</td></tr><tr><td>2020-08-04 00:01:00</td><td>3</td></tr><tr><td>2020-08-05 00:01:00</td><td>4</td></tr><tr><td>2020-08-06 00:01:00</td><td>5</td></tr></tbody></table></div>"
      ],
      "text/plain": [
       "shape: (5, 2)\n",
       "┌─────────────────────┬─────┐\n",
       "│ date                ┆ c   │\n",
       "│ ---                 ┆ --- │\n",
       "│ datetime[ms]        ┆ i64 │\n",
       "╞═════════════════════╪═════╡\n",
       "│ 2020-08-02 00:01:00 ┆ 1   │\n",
       "│ 2020-08-03 00:01:00 ┆ 2   │\n",
       "│ 2020-08-04 00:01:00 ┆ 3   │\n",
       "│ 2020-08-05 00:01:00 ┆ 4   │\n",
       "│ 2020-08-06 00:01:00 ┆ 5   │\n",
       "└─────────────────────┴─────┘"
      ]
     },
     "execution_count": 23,
     "metadata": {},
     "output_type": "execute_result"
    }
   ],
   "source": [
    "test_df.select(\n",
    "    (pl.col(\"date\") + timedelta(days=1, minutes=1)).alias(\"date\"), pl.int_range(1, pl.len() + 1).alias(\"c\")\n",
    "    )"
   ]
  },
  {
   "cell_type": "code",
   "execution_count": 25,
   "metadata": {},
   "outputs": [
    {
     "data": {
      "text/html": [
       "<div><style>\n",
       ".dataframe > thead > tr,\n",
       ".dataframe > tbody > tr {\n",
       "  text-align: right;\n",
       "  white-space: pre-wrap;\n",
       "}\n",
       "</style>\n",
       "<small>shape: (5, 4)</small><table border=\"1\" class=\"dataframe\"><thead><tr><th>date</th><th>c</th><th>value</th><th>count</th></tr><tr><td>datetime[ms]</td><td>i64</td><td>i64</td><td>i64</td></tr></thead><tbody><tr><td>2020-08-02 00:01:00</td><td>1</td><td>2</td><td>2</td></tr><tr><td>2020-08-03 00:01:00</td><td>2</td><td>3</td><td>3</td></tr><tr><td>2020-08-04 00:01:00</td><td>3</td><td>4</td><td>4</td></tr><tr><td>2020-08-05 00:01:00</td><td>4</td><td>5</td><td>5</td></tr><tr><td>2020-08-06 00:01:00</td><td>5</td><td>5</td><td>5</td></tr></tbody></table></div>"
      ],
      "text/plain": [
       "shape: (5, 4)\n",
       "┌─────────────────────┬─────┬───────┬───────┐\n",
       "│ date                ┆ c   ┆ value ┆ count │\n",
       "│ ---                 ┆ --- ┆ ---   ┆ ---   │\n",
       "│ datetime[ms]        ┆ i64 ┆ i64   ┆ i64   │\n",
       "╞═════════════════════╪═════╪═══════╪═══════╡\n",
       "│ 2020-08-02 00:01:00 ┆ 1   ┆ 2     ┆ 2     │\n",
       "│ 2020-08-03 00:01:00 ┆ 2   ┆ 3     ┆ 3     │\n",
       "│ 2020-08-04 00:01:00 ┆ 3   ┆ 4     ┆ 4     │\n",
       "│ 2020-08-05 00:01:00 ┆ 4   ┆ 5     ┆ 5     │\n",
       "│ 2020-08-06 00:01:00 ┆ 5   ┆ 5     ┆ 5     │\n",
       "└─────────────────────┴─────┴───────┴───────┘"
      ]
     },
     "execution_count": 25,
     "metadata": {},
     "output_type": "execute_result"
    }
   ],
   "source": [
    "test_df.select(\n",
    "    (pl.col(\"date\") + timedelta(days=1, minutes=1)).alias(\"date\"), pl.int_range(1, pl.len() + 1).alias(\"c\")\n",
    "    ).set_sorted(\"date\").join_asof(\n",
    "        test_df.set_sorted(\"date\"),\n",
    "        on=\"date\",\n",
    "        strategy=\"backward\"\n",
    "        )"
   ]
  },
  {
   "cell_type": "code",
   "execution_count": 30,
   "metadata": {},
   "outputs": [
    {
     "ename": "ComputeError",
     "evalue": "n must be a single value.",
     "output_type": "error",
     "traceback": [
      "\u001b[0;31m---------------------------------------------------------------------------\u001b[0m",
      "\u001b[0;31mComputeError\u001b[0m                              Traceback (most recent call last)",
      "Cell \u001b[0;32mIn[30], line 1\u001b[0m\n\u001b[0;32m----> 1\u001b[0m \u001b[43mtest_df\u001b[49m\u001b[38;5;241;43m.\u001b[39;49m\u001b[43mwith_columns\u001b[49m\u001b[43m(\u001b[49m\u001b[43mshift\u001b[49m\u001b[38;5;241;43m=\u001b[39;49m\u001b[43mpl\u001b[49m\u001b[38;5;241;43m.\u001b[39;49m\u001b[43mSeries\u001b[49m\u001b[43m(\u001b[49m\u001b[38;5;124;43m\"\u001b[39;49m\u001b[38;5;124;43mt\u001b[39;49m\u001b[38;5;124;43m\"\u001b[39;49m\u001b[43m,\u001b[49m\u001b[43m \u001b[49m\u001b[43m[\u001b[49m\u001b[38;5;241;43m1\u001b[39;49m\u001b[43m,\u001b[49m\u001b[43m \u001b[49m\u001b[38;5;241;43m2\u001b[39;49m\u001b[43m,\u001b[49m\u001b[43m \u001b[49m\u001b[38;5;241;43m0\u001b[39;49m\u001b[43m,\u001b[49m\u001b[43m \u001b[49m\u001b[38;5;241;43m1\u001b[39;49m\u001b[43m,\u001b[49m\u001b[43m \u001b[49m\u001b[38;5;241;43m2\u001b[39;49m\u001b[43m]\u001b[49m\u001b[43m)\u001b[49m\u001b[43m)\u001b[49m\u001b[38;5;241;43m.\u001b[39;49m\u001b[43mwith_columns\u001b[49m\u001b[43m(\u001b[49m\u001b[43mpl\u001b[49m\u001b[38;5;241;43m.\u001b[39;49m\u001b[43mcol\u001b[49m\u001b[43m(\u001b[49m\u001b[38;5;124;43m\"\u001b[39;49m\u001b[38;5;124;43mdate\u001b[39;49m\u001b[38;5;124;43m\"\u001b[39;49m\u001b[43m)\u001b[49m\u001b[38;5;241;43m.\u001b[39;49m\u001b[43mshift\u001b[49m\u001b[43m(\u001b[49m\u001b[43mpl\u001b[49m\u001b[38;5;241;43m.\u001b[39;49m\u001b[43mcol\u001b[49m\u001b[43m(\u001b[49m\u001b[38;5;124;43m\"\u001b[39;49m\u001b[38;5;124;43mshift\u001b[39;49m\u001b[38;5;124;43m\"\u001b[39;49m\u001b[43m)\u001b[49m\u001b[43m)\u001b[49m\u001b[38;5;241;43m.\u001b[39;49m\u001b[43malias\u001b[49m\u001b[43m(\u001b[49m\u001b[38;5;124;43m\"\u001b[39;49m\u001b[38;5;124;43mdate_2\u001b[39;49m\u001b[38;5;124;43m\"\u001b[39;49m\u001b[43m)\u001b[49m\u001b[43m)\u001b[49m\n",
      "File \u001b[0;32m~/projects/polars_finance/.venv/lib/python3.11/site-packages/polars/dataframe/frame.py:8366\u001b[0m, in \u001b[0;36mDataFrame.with_columns\u001b[0;34m(self, *exprs, **named_exprs)\u001b[0m\n\u001b[1;32m   8220\u001b[0m \u001b[38;5;28;01mdef\u001b[39;00m \u001b[38;5;21mwith_columns\u001b[39m(\n\u001b[1;32m   8221\u001b[0m     \u001b[38;5;28mself\u001b[39m,\n\u001b[1;32m   8222\u001b[0m     \u001b[38;5;241m*\u001b[39mexprs: IntoExpr \u001b[38;5;241m|\u001b[39m Iterable[IntoExpr],\n\u001b[1;32m   8223\u001b[0m     \u001b[38;5;241m*\u001b[39m\u001b[38;5;241m*\u001b[39mnamed_exprs: IntoExpr,\n\u001b[1;32m   8224\u001b[0m ) \u001b[38;5;241m-\u001b[39m\u001b[38;5;241m>\u001b[39m DataFrame:\n\u001b[1;32m   8225\u001b[0m \u001b[38;5;250m    \u001b[39m\u001b[38;5;124;03m\"\"\"\u001b[39;00m\n\u001b[1;32m   8226\u001b[0m \u001b[38;5;124;03m    Add columns to this DataFrame.\u001b[39;00m\n\u001b[1;32m   8227\u001b[0m \n\u001b[0;32m   (...)\u001b[0m\n\u001b[1;32m   8364\u001b[0m \u001b[38;5;124;03m    └─────┴──────┴─────────────┘\u001b[39;00m\n\u001b[1;32m   8365\u001b[0m \u001b[38;5;124;03m    \"\"\"\u001b[39;00m\n\u001b[0;32m-> 8366\u001b[0m     \u001b[38;5;28;01mreturn\u001b[39;00m \u001b[38;5;28;43mself\u001b[39;49m\u001b[38;5;241;43m.\u001b[39;49m\u001b[43mlazy\u001b[49m\u001b[43m(\u001b[49m\u001b[43m)\u001b[49m\u001b[38;5;241;43m.\u001b[39;49m\u001b[43mwith_columns\u001b[49m\u001b[43m(\u001b[49m\u001b[38;5;241;43m*\u001b[39;49m\u001b[43mexprs\u001b[49m\u001b[43m,\u001b[49m\u001b[43m \u001b[49m\u001b[38;5;241;43m*\u001b[39;49m\u001b[38;5;241;43m*\u001b[39;49m\u001b[43mnamed_exprs\u001b[49m\u001b[43m)\u001b[49m\u001b[38;5;241;43m.\u001b[39;49m\u001b[43mcollect\u001b[49m\u001b[43m(\u001b[49m\u001b[43m_eager\u001b[49m\u001b[38;5;241;43m=\u001b[39;49m\u001b[38;5;28;43;01mTrue\u001b[39;49;00m\u001b[43m)\u001b[49m\n",
      "File \u001b[0;32m~/projects/polars_finance/.venv/lib/python3.11/site-packages/polars/lazyframe/frame.py:1943\u001b[0m, in \u001b[0;36mLazyFrame.collect\u001b[0;34m(self, type_coercion, predicate_pushdown, projection_pushdown, simplify_expression, slice_pushdown, comm_subplan_elim, comm_subexpr_elim, no_optimization, streaming, background, _eager)\u001b[0m\n\u001b[1;32m   1940\u001b[0m \u001b[38;5;28;01mif\u001b[39;00m background:\n\u001b[1;32m   1941\u001b[0m     \u001b[38;5;28;01mreturn\u001b[39;00m InProcessQuery(ldf\u001b[38;5;241m.\u001b[39mcollect_concurrently())\n\u001b[0;32m-> 1943\u001b[0m \u001b[38;5;28;01mreturn\u001b[39;00m wrap_df(ldf\u001b[38;5;241m.\u001b[39mcollect())\n",
      "\u001b[0;31mComputeError\u001b[0m: n must be a single value."
     ]
    }
   ],
   "source": [
    "test_df.with_columns(shift=pl.Series(\"t\", [1, 2, 0, 1, 2])).with_columns(pl.col(\"date\").shift(pl.col(\"shift\")).alias(\"date_2\"))"
   ]
  },
  {
   "cell_type": "code",
   "execution_count": null,
   "metadata": {},
   "outputs": [],
   "source": []
  }
 ],
 "metadata": {
  "kernelspec": {
   "display_name": ".venv",
   "language": "python",
   "name": "python3"
  },
  "language_info": {
   "codemirror_mode": {
    "name": "ipython",
    "version": 3
   },
   "file_extension": ".py",
   "mimetype": "text/x-python",
   "name": "python",
   "nbconvert_exporter": "python",
   "pygments_lexer": "ipython3",
   "version": "3.11.4"
  }
 },
 "nbformat": 4,
 "nbformat_minor": 2
}
