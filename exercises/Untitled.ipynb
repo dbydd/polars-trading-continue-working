{
 "cells": [
  {
   "cell_type": "code",
   "execution_count": 1,
   "id": "ea5f6855-f322-4cc4-bd68-48573ef0f21c",
   "metadata": {},
   "outputs": [],
   "source": [
    "import polars as pl\n",
    "from datetime import date, timedelta\n",
    "from polars_finance.labels import raw_forward_returns, fixed_time_dynamic_threshold_label, fixed_time_label, triple_barrier_label\n",
    "from polars_finance.bars import volume_bars\n",
    "from tqdm.notebook import tqdm\n",
    "pl.enable_string_cache()"
   ]
  },
  {
   "cell_type": "code",
   "execution_count": 2,
   "id": "96ac9d45-e311-4b93-909c-b835c1641fd4",
   "metadata": {},
   "outputs": [],
   "source": [
    "test_df = pl.DataFrame(\n",
    "    {\n",
    "    \"symbol\": [\"AAPL\"] * 200,\n",
    "    \"ts_event\": pl.date_range(date(2021, 1, 1), date(2021, 1, 1) + timedelta(days=199), eager=True),\n",
    "    \"price\": range(1, 201)\n",
    "    },\n",
    "    schema_overrides={\"price\": pl.Float64}\n",
    ")"
   ]
  },
  {
   "cell_type": "code",
   "execution_count": 3,
   "id": "a8dfda19-edfd-47cc-989e-0b661e34b2dd",
   "metadata": {},
   "outputs": [
    {
     "data": {
      "text/html": [
       "<div><style>\n",
       ".dataframe > thead > tr,\n",
       ".dataframe > tbody > tr {\n",
       "  text-align: right;\n",
       "  white-space: pre-wrap;\n",
       "}\n",
       "</style>\n",
       "<small>shape: (200, 3)</small><table border=\"1\" class=\"dataframe\"><thead><tr><th>symbol</th><th>ts_event</th><th>price</th></tr><tr><td>str</td><td>date</td><td>f64</td></tr></thead><tbody><tr><td>&quot;AAPL&quot;</td><td>2021-01-01</td><td>1.0</td></tr><tr><td>&quot;AAPL&quot;</td><td>2021-01-02</td><td>2.0</td></tr><tr><td>&quot;AAPL&quot;</td><td>2021-01-03</td><td>3.0</td></tr><tr><td>&quot;AAPL&quot;</td><td>2021-01-04</td><td>4.0</td></tr><tr><td>&quot;AAPL&quot;</td><td>2021-01-05</td><td>5.0</td></tr><tr><td>&hellip;</td><td>&hellip;</td><td>&hellip;</td></tr><tr><td>&quot;AAPL&quot;</td><td>2021-07-15</td><td>196.0</td></tr><tr><td>&quot;AAPL&quot;</td><td>2021-07-16</td><td>197.0</td></tr><tr><td>&quot;AAPL&quot;</td><td>2021-07-17</td><td>198.0</td></tr><tr><td>&quot;AAPL&quot;</td><td>2021-07-18</td><td>199.0</td></tr><tr><td>&quot;AAPL&quot;</td><td>2021-07-19</td><td>200.0</td></tr></tbody></table></div>"
      ],
      "text/plain": [
       "shape: (200, 3)\n",
       "┌────────┬────────────┬───────┐\n",
       "│ symbol ┆ ts_event   ┆ price │\n",
       "│ ---    ┆ ---        ┆ ---   │\n",
       "│ str    ┆ date       ┆ f64   │\n",
       "╞════════╪════════════╪═══════╡\n",
       "│ AAPL   ┆ 2021-01-01 ┆ 1.0   │\n",
       "│ AAPL   ┆ 2021-01-02 ┆ 2.0   │\n",
       "│ AAPL   ┆ 2021-01-03 ┆ 3.0   │\n",
       "│ AAPL   ┆ 2021-01-04 ┆ 4.0   │\n",
       "│ AAPL   ┆ 2021-01-05 ┆ 5.0   │\n",
       "│ …      ┆ …          ┆ …     │\n",
       "│ AAPL   ┆ 2021-07-15 ┆ 196.0 │\n",
       "│ AAPL   ┆ 2021-07-16 ┆ 197.0 │\n",
       "│ AAPL   ┆ 2021-07-17 ┆ 198.0 │\n",
       "│ AAPL   ┆ 2021-07-18 ┆ 199.0 │\n",
       "│ AAPL   ┆ 2021-07-19 ┆ 200.0 │\n",
       "└────────┴────────────┴───────┘"
      ]
     },
     "execution_count": 3,
     "metadata": {},
     "output_type": "execute_result"
    }
   ],
   "source": [
    "test_df"
   ]
  },
  {
   "cell_type": "code",
   "execution_count": 5,
   "id": "48763c7b-74a6-49e1-ba95-0494b2286186",
   "metadata": {},
   "outputs": [
    {
     "data": {
      "text/html": [
       "<div><style>\n",
       ".dataframe > thead > tr,\n",
       ".dataframe > tbody > tr {\n",
       "  text-align: right;\n",
       "  white-space: pre-wrap;\n",
       "}\n",
       "</style>\n",
       "<small>shape: (200, 6)</small><table border=\"1\" class=\"dataframe\"><thead><tr><th>symbol</th><th>ts_event</th><th>price</th><th>ret</th><th>label1</th><th>label2</th></tr><tr><td>str</td><td>date</td><td>f64</td><td>f64</td><td>i32</td><td>i32</td></tr></thead><tbody><tr><td>&quot;AAPL&quot;</td><td>2021-01-01</td><td>1.0</td><td>1.0</td><td>1</td><td>1</td></tr><tr><td>&quot;AAPL&quot;</td><td>2021-01-02</td><td>2.0</td><td>0.5</td><td>1</td><td>1</td></tr><tr><td>&quot;AAPL&quot;</td><td>2021-01-03</td><td>3.0</td><td>0.333333</td><td>1</td><td>1</td></tr><tr><td>&quot;AAPL&quot;</td><td>2021-01-04</td><td>4.0</td><td>0.25</td><td>1</td><td>1</td></tr><tr><td>&quot;AAPL&quot;</td><td>2021-01-05</td><td>5.0</td><td>0.2</td><td>1</td><td>1</td></tr><tr><td>&hellip;</td><td>&hellip;</td><td>&hellip;</td><td>&hellip;</td><td>&hellip;</td><td>&hellip;</td></tr><tr><td>&quot;AAPL&quot;</td><td>2021-07-15</td><td>196.0</td><td>0.005102</td><td>0</td><td>0</td></tr><tr><td>&quot;AAPL&quot;</td><td>2021-07-16</td><td>197.0</td><td>0.005076</td><td>0</td><td>0</td></tr><tr><td>&quot;AAPL&quot;</td><td>2021-07-17</td><td>198.0</td><td>0.005051</td><td>0</td><td>0</td></tr><tr><td>&quot;AAPL&quot;</td><td>2021-07-18</td><td>199.0</td><td>0.005025</td><td>0</td><td>0</td></tr><tr><td>&quot;AAPL&quot;</td><td>2021-07-19</td><td>200.0</td><td>null</td><td>0</td><td>0</td></tr></tbody></table></div>"
      ],
      "text/plain": [
       "shape: (200, 6)\n",
       "┌────────┬────────────┬───────┬──────────┬────────┬────────┐\n",
       "│ symbol ┆ ts_event   ┆ price ┆ ret      ┆ label1 ┆ label2 │\n",
       "│ ---    ┆ ---        ┆ ---   ┆ ---      ┆ ---    ┆ ---    │\n",
       "│ str    ┆ date       ┆ f64   ┆ f64      ┆ i32    ┆ i32    │\n",
       "╞════════╪════════════╪═══════╪══════════╪════════╪════════╡\n",
       "│ AAPL   ┆ 2021-01-01 ┆ 1.0   ┆ 1.0      ┆ 1      ┆ 1      │\n",
       "│ AAPL   ┆ 2021-01-02 ┆ 2.0   ┆ 0.5      ┆ 1      ┆ 1      │\n",
       "│ AAPL   ┆ 2021-01-03 ┆ 3.0   ┆ 0.333333 ┆ 1      ┆ 1      │\n",
       "│ AAPL   ┆ 2021-01-04 ┆ 4.0   ┆ 0.25     ┆ 1      ┆ 1      │\n",
       "│ AAPL   ┆ 2021-01-05 ┆ 5.0   ┆ 0.2      ┆ 1      ┆ 1      │\n",
       "│ …      ┆ …          ┆ …     ┆ …        ┆ …      ┆ …      │\n",
       "│ AAPL   ┆ 2021-07-15 ┆ 196.0 ┆ 0.005102 ┆ 0      ┆ 0      │\n",
       "│ AAPL   ┆ 2021-07-16 ┆ 197.0 ┆ 0.005076 ┆ 0      ┆ 0      │\n",
       "│ AAPL   ┆ 2021-07-17 ┆ 198.0 ┆ 0.005051 ┆ 0      ┆ 0      │\n",
       "│ AAPL   ┆ 2021-07-18 ┆ 199.0 ┆ 0.005025 ┆ 0      ┆ 0      │\n",
       "│ AAPL   ┆ 2021-07-19 ┆ 200.0 ┆ null     ┆ 0      ┆ 0      │\n",
       "└────────┴────────────┴───────┴──────────┴────────┴────────┘"
      ]
     },
     "execution_count": 5,
     "metadata": {},
     "output_type": "execute_result"
    }
   ],
   "source": [
    "test_df.with_columns(\n",
    "    raw_forward_returns(pl.col(\"price\")).alias(\"ret\"),\n",
    "    fixed_time_label(pl.col(\"price\"), t=1).alias(\"label1\"),\n",
    "    fixed_time_label(pl.col(\"price\"), upper_threshold=.2, t=2).alias(\"label2\")\n",
    ")"
   ]
  },
  {
   "cell_type": "code",
   "execution_count": 55,
   "id": "1f2b0729-cba4-4ab0-95a1-ac74fd3dc44f",
   "metadata": {},
   "outputs": [],
   "source": [
    "import databento as db\n",
    "from pathlib import Path"
   ]
  },
  {
   "cell_type": "code",
   "execution_count": 67,
   "id": "03d0cc8a-294e-4c37-92b5-f98390984d4b",
   "metadata": {},
   "outputs": [
    {
     "data": {
      "text/plain": [
       "'xnas-itch-20231018'"
      ]
     },
     "execution_count": 67,
     "metadata": {},
     "output_type": "execute_result"
    }
   ],
   "source": [
    "list(Path(\"../data/XNAS-20240403-QMLQV3MJHY/\").glob(\"*.zst\"))[0].name.split(\".\")[0]"
   ]
  },
  {
   "cell_type": "code",
   "execution_count": 69,
   "id": "a620723f-14da-4be5-af32-cbbc327059f4",
   "metadata": {},
   "outputs": [
    {
     "data": {
      "application/vnd.jupyter.widget-view+json": {
       "model_id": "a74b3257ddae48fd9243cdf8ec8bfdb2",
       "version_major": 2,
       "version_minor": 0
      },
      "text/plain": [
       "  0%|          | 0/250 [00:00<?, ?it/s]"
      ]
     },
     "metadata": {},
     "output_type": "display_data"
    }
   ],
   "source": [
    "for path in tqdm(list(Path(\"../data/XNAS-20240403-QMLQV3MJHY/\").glob(\"*.zst\"))):\n",
    "    name = path.name.split(\".\")[0]\n",
    "    pl.from_pandas(\n",
    "        db.DBNStore.from_file(path).to_df(),\n",
    "        schema_overrides={\"symbol\": pl.Categorical}\n",
    "    ).select(\n",
    "        pl.col(\"ts_event\").dt.convert_time_zone(\"US/Eastern\"),\n",
    "        \"price\",\n",
    "        \"size\",\n",
    "        \"symbol\"\n",
    "    ).write_parquet(f\"../data/xnas_2023_2024/{name}.parquet\")"
   ]
  },
  {
   "cell_type": "code",
   "execution_count": 2,
   "id": "167a46ff-6a51-4acd-935c-7ae73c68fe7f",
   "metadata": {},
   "outputs": [],
   "source": [
    "df = pl.scan_parquet(\"../data/xnas_2023_2024/*.parquet\")"
   ]
  },
  {
   "cell_type": "code",
   "execution_count": null,
   "id": "b150d69a-a4e7-4bba-a1ae-ce8b0e584b1b",
   "metadata": {},
   "outputs": [],
   "source": [
    "volume_bars(df).collect()"
   ]
  },
  {
   "cell_type": "code",
   "execution_count": null,
   "id": "db958481-b717-497d-ab1a-a112349ebb9d",
   "metadata": {},
   "outputs": [],
   "source": []
  }
 ],
 "metadata": {
  "kernelspec": {
   "display_name": "Python 3 (ipykernel)",
   "language": "python",
   "name": "python3"
  },
  "language_info": {
   "codemirror_mode": {
    "name": "ipython",
    "version": 3
   },
   "file_extension": ".py",
   "mimetype": "text/x-python",
   "name": "python",
   "nbconvert_exporter": "python",
   "pygments_lexer": "ipython3",
   "version": "3.11.4"
  }
 },
 "nbformat": 4,
 "nbformat_minor": 5
}
